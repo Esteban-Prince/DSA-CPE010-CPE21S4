{
  "nbformat": 4,
  "nbformat_minor": 0,
  "metadata": {
    "colab": {
      "provenance": [],
      "authorship_tag": "ABX9TyOCBRU5TzSPI+7H+kmTe1J5",
      "include_colab_link": true
    },
    "kernelspec": {
      "name": "python3",
      "display_name": "Python 3"
    },
    "language_info": {
      "name": "python"
    }
  },
  "cells": [
    {
      "cell_type": "markdown",
      "metadata": {
        "id": "view-in-github",
        "colab_type": "text"
      },
      "source": [
        "<a href=\"https://colab.research.google.com/github/Esteban-Prince/DSA-CPE010-CPE21S4/blob/main/Exercise_1.ipynb\" target=\"_parent\"><img src=\"https://colab.research.google.com/assets/colab-badge.svg\" alt=\"Open In Colab\"/></a>"
      ]
    },
    {
      "cell_type": "markdown",
      "source": [
        "# Exercise 1 (Class Constructor and Method)"
      ],
      "metadata": {
        "id": "rtLL0oictP_B"
      }
    },
    {
      "cell_type": "code",
      "source": [
        "class Rectangle:\n",
        "  def Area(L, W):\n",
        "    x = L * W\n",
        "    return x\n",
        "\n",
        "L = int(input(\"Enter the length of the rectangle: \"))\n",
        "W = int(input(\"Enter the width of the rectangle: \"))\n",
        "\n",
        "print(\"The area of the rectangle is: \", Rectangle.Area(L,W))"
      ],
      "metadata": {
        "colab": {
          "base_uri": "https://localhost:8080/"
        },
        "id": "FzNFl8LNn5D3",
        "outputId": "af57db33-4295-4915-ca84-638a5df55b01"
      },
      "execution_count": 6,
      "outputs": [
        {
          "output_type": "stream",
          "name": "stdout",
          "text": [
            "Enter the length of the rectangle: 4\n",
            "Enter the width of the rectangle: 5\n",
            "The area of the rectangle is:  20\n"
          ]
        }
      ]
    },
    {
      "cell_type": "code",
      "execution_count": null,
      "metadata": {
        "id": "Q9pUld6DmkCw"
      },
      "outputs": [],
      "source": []
    }
  ]
}