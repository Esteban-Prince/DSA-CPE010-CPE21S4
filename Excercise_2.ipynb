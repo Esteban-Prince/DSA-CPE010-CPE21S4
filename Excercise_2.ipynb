{
  "nbformat": 4,
  "nbformat_minor": 0,
  "metadata": {
    "colab": {
      "provenance": [],
      "authorship_tag": "ABX9TyOE6z9hw/aJJegG6pjWNTo3",
      "include_colab_link": true
    },
    "kernelspec": {
      "name": "python3",
      "display_name": "Python 3"
    },
    "language_info": {
      "name": "python"
    }
  },
  "cells": [
    {
      "cell_type": "markdown",
      "metadata": {
        "id": "view-in-github",
        "colab_type": "text"
      },
      "source": [
        "<a href=\"https://colab.research.google.com/github/Esteban-Prince/DSA-CPE010-CPE21S4/blob/main/Excercise_2.ipynb\" target=\"_parent\"><img src=\"https://colab.research.google.com/assets/colab-badge.svg\" alt=\"Open In Colab\"/></a>"
      ]
    },
    {
      "cell_type": "markdown",
      "source": [
        "# Excercise 2"
      ],
      "metadata": {
        "id": "Tc1ZQvSC5Hga"
      }
    },
    {
      "cell_type": "code",
      "execution_count": 12,
      "metadata": {
        "colab": {
          "base_uri": "https://localhost:8080/"
        },
        "id": "t3D1jWYd5DH9",
        "outputId": "372f5f7f-1181-488f-98dc-f6ea81a61727"
      },
      "outputs": [
        {
          "output_type": "stream",
          "name": "stdout",
          "text": [
            "Area of the rectangle: 50\n",
            "Area of the square: 49\n",
            "Area of the triangle: 12.0\n"
          ]
        }
      ],
      "source": [
        "class Shapes():\n",
        "  def __init__(self, length, width, side, base, height):\n",
        "    self.length = length\n",
        "    self.width = width\n",
        "    self.height = height\n",
        "    self.side = side\n",
        "    self.base = base\n",
        "  def Area_Rectangle(self):\n",
        "    return self.length * self.width\n",
        "\n",
        "class Rectangle(Shapes):\n",
        "  def __init__(self, length, width):\n",
        "    super().__init__(length, width, 0, 0, 0)\n",
        "  def Area_Rectangle(self):\n",
        "    return super().Area_Rectangle()\n",
        "\n",
        "class Square(Shapes):\n",
        "  def __init__(self, side):\n",
        "    super().__init__(side, side, side, 0, 0)\n",
        "  def Area_Square(self):\n",
        "    return self.side * self.side\n",
        "\n",
        "class Triangle(Shapes):\n",
        "  def __init__(self, base, height):\n",
        "    super().__init__(0, 0, 0, base, height)\n",
        "  def Area_Triangle(self):\n",
        "    return (self.base * self.height) / 2\n",
        "\n",
        "# Input\n",
        "rectangle = Rectangle(5, 10)\n",
        "square = Square(7)\n",
        "triangle = Triangle(4, 6)\n",
        "\n",
        "# Output\n",
        "print(\"Area of the rectangle:\", rectangle.Area_Rectangle())\n",
        "print(\"Area of the square:\", square.Area_Square())\n",
        "print(\"Area of the triangle:\", triangle.Area_Triangle())"
      ]
    }
  ]
}