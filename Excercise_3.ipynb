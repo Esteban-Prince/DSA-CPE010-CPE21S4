{
  "nbformat": 4,
  "nbformat_minor": 0,
  "metadata": {
    "colab": {
      "provenance": [],
      "authorship_tag": "ABX9TyMlqqanQ6ckFSXYv9c2HBMb",
      "include_colab_link": true
    },
    "kernelspec": {
      "name": "python3",
      "display_name": "Python 3"
    },
    "language_info": {
      "name": "python"
    }
  },
  "cells": [
    {
      "cell_type": "markdown",
      "metadata": {
        "id": "view-in-github",
        "colab_type": "text"
      },
      "source": [
        "<a href=\"https://colab.research.google.com/github/Esteban-Prince/DSA-CPE010-CPE21S4/blob/main/Excercise_3.ipynb\" target=\"_parent\"><img src=\"https://colab.research.google.com/assets/colab-badge.svg\" alt=\"Open In Colab\"/></a>"
      ]
    },
    {
      "cell_type": "markdown",
      "source": [
        "# Excercise 3"
      ],
      "metadata": {
        "id": "hPgBJZiGyUIq"
      }
    },
    {
      "cell_type": "markdown",
      "source": [
        "**Define**"
      ],
      "metadata": {
        "id": "qy4dWzbL0ZU6"
      }
    },
    {
      "cell_type": "code",
      "execution_count": 3,
      "metadata": {
        "colab": {
          "base_uri": "https://localhost:8080/"
        },
        "id": "4nqFsLRMxZwL",
        "outputId": "4d1cd5b0-b961-4cd7-d07d-7fdcd1e887bc"
      },
      "outputs": [
        {
          "output_type": "stream",
          "name": "stdout",
          "text": [
            "cat\n"
          ]
        }
      ],
      "source": [
        "animals =[\"cat\",\"dog\",\"fish\"]\n",
        "x = animals[0]\n",
        "print(x)"
      ]
    },
    {
      "cell_type": "code",
      "source": [
        "animals[0] = \"monkey\"\n",
        "print(animals)"
      ],
      "metadata": {
        "colab": {
          "base_uri": "https://localhost:8080/"
        },
        "id": "a3AhmumsxrCq",
        "outputId": "bf99bb8e-6228-4de1-b3bd-da94feae9941"
      },
      "execution_count": 4,
      "outputs": [
        {
          "output_type": "stream",
          "name": "stdout",
          "text": [
            "['monkey', 'dog', 'fish']\n"
          ]
        }
      ]
    },
    {
      "cell_type": "markdown",
      "source": [
        " **Length of the array**"
      ],
      "metadata": {
        "id": "svcEgpr70QLl"
      }
    },
    {
      "cell_type": "code",
      "source": [
        "animals =[\"monkey\",\"cat\",\"dog\",\"fish\"]\n",
        "x = len(animals)\n",
        "print(x)"
      ],
      "metadata": {
        "colab": {
          "base_uri": "https://localhost:8080/"
        },
        "id": "Io29GbAPx6H2",
        "outputId": "f3150008-0fbf-4410-9ac6-bd1d9e3227ba"
      },
      "execution_count": 5,
      "outputs": [
        {
          "output_type": "stream",
          "name": "stdout",
          "text": [
            "3\n"
          ]
        }
      ]
    },
    {
      "cell_type": "markdown",
      "source": [
        "**Loop**"
      ],
      "metadata": {
        "id": "VFuOHQBP0Ozj"
      }
    },
    {
      "cell_type": "code",
      "source": [
        "animals =[\"monkey\",\"cat\",\"dog\",\"fish\"]\n",
        "for x in animals:\n",
        "    print(x)\n"
      ],
      "metadata": {
        "colab": {
          "base_uri": "https://localhost:8080/"
        },
        "id": "_Lio4wc6yOEX",
        "outputId": "eb1eb0fb-8f6a-461d-eac9-bd88d344941a"
      },
      "execution_count": 7,
      "outputs": [
        {
          "output_type": "stream",
          "name": "stdout",
          "text": [
            "monkey\n",
            "cat\n",
            "dog\n",
            "fish\n"
          ]
        }
      ]
    },
    {
      "cell_type": "markdown",
      "source": [
        "**Append**"
      ],
      "metadata": {
        "id": "Z1dCMPf90OG1"
      }
    },
    {
      "cell_type": "code",
      "source": [
        "animals.append(\"bird\")\n",
        "print(animals)"
      ],
      "metadata": {
        "colab": {
          "base_uri": "https://localhost:8080/"
        },
        "id": "Ty9Ojbyhy3da",
        "outputId": "a125317a-3584-4c2c-8a16-f656e3dddca1"
      },
      "execution_count": 8,
      "outputs": [
        {
          "output_type": "stream",
          "name": "stdout",
          "text": [
            "['monkey', 'cat', 'dog', 'fish', 'bird']\n"
          ]
        }
      ]
    },
    {
      "cell_type": "markdown",
      "source": [
        "**Reverse**"
      ],
      "metadata": {
        "id": "WJ7Mowh70MVH"
      }
    },
    {
      "cell_type": "code",
      "source": [
        "animals.reverse()\n",
        "print(animals)"
      ],
      "metadata": {
        "colab": {
          "base_uri": "https://localhost:8080/"
        },
        "id": "S8G_xpZ9zbM_",
        "outputId": "8a7fc25c-2160-4e22-bfe4-8c773ee34d5f"
      },
      "execution_count": 12,
      "outputs": [
        {
          "output_type": "stream",
          "name": "stdout",
          "text": [
            "['bird', 'fish', 'dog', 'cat', 'monkey']\n"
          ]
        }
      ]
    },
    {
      "cell_type": "markdown",
      "source": [
        "**Pop**"
      ],
      "metadata": {
        "id": "UdGhYFGv0L7w"
      }
    },
    {
      "cell_type": "code",
      "source": [
        "animals.pop(1)\n",
        "print(animals)"
      ],
      "metadata": {
        "colab": {
          "base_uri": "https://localhost:8080/"
        },
        "id": "dAHQGgDXzPkL",
        "outputId": "aa97d7ae-0b89-4cdf-f828-902be68451f8"
      },
      "execution_count": 13,
      "outputs": [
        {
          "output_type": "stream",
          "name": "stdout",
          "text": [
            "['bird', 'dog', 'cat', 'monkey']\n"
          ]
        }
      ]
    },
    {
      "cell_type": "markdown",
      "source": [
        "**Remove**"
      ],
      "metadata": {
        "id": "7zgiF0tU0Lg6"
      }
    },
    {
      "cell_type": "code",
      "source": [
        "animals.remove(\"dog\")\n",
        "print(animals)"
      ],
      "metadata": {
        "colab": {
          "base_uri": "https://localhost:8080/"
        },
        "id": "vvOp57BLzvJb",
        "outputId": "ef745bbb-9e81-4271-a741-ac4ee892d32d"
      },
      "execution_count": 21,
      "outputs": [
        {
          "output_type": "stream",
          "name": "stdout",
          "text": [
            "['bird', 'cat', 'monkey']\n"
          ]
        }
      ]
    },
    {
      "cell_type": "markdown",
      "source": [
        "**Insert**"
      ],
      "metadata": {
        "id": "YVeidBuk0oO2"
      }
    },
    {
      "cell_type": "code",
      "source": [
        "animal = [\"monkey\",\"cat\",\"dog\",\"fish\"]\n",
        "animal.insert(0,\"bird\")\n",
        "print(animal)"
      ],
      "metadata": {
        "colab": {
          "base_uri": "https://localhost:8080/"
        },
        "id": "JqQ5vyP00n8y",
        "outputId": "4a05f781-4dd2-4e66-fe50-a7f99d88c5af"
      },
      "execution_count": 22,
      "outputs": [
        {
          "output_type": "stream",
          "name": "stdout",
          "text": [
            "['bird', 'monkey', 'cat', 'dog', 'fish']\n"
          ]
        }
      ]
    }
  ]
}